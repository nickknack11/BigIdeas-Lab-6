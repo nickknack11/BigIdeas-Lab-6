{
 "cells": [
  {
   "cell_type": "code",
   "execution_count": null,
   "metadata": {},
   "outputs": [],
   "source": [
    "user_name = input(\"Enter your name.\")\n",
    "user_age = int(input(\"Enter your age\"))\n",
    "difference = 2023 - user_age\n",
    "age_in_year_2100 = str(2100 - difference)\n",
    "print(\"Hello there\" + \" \" + user_name + \"!\" + \" \" + \"Have a great day!\")\n",
    "print(\"You will be around \" + age_in_year_2100 + \" years old in the year 2100!.\")"
   ]
  },
  {
   "cell_type": "code",
   "execution_count": null,
   "metadata": {},
   "outputs": [],
   "source": []
  }
 ],
 "metadata": {
  "kernelspec": {
   "display_name": "Python 3",
   "language": "python",
   "name": "python3"
  },
  "language_info": {
   "codemirror_mode": {
    "name": "ipython",
    "version": 3
   },
   "file_extension": ".py",
   "mimetype": "text/x-python",
   "name": "python",
   "nbconvert_exporter": "python",
   "pygments_lexer": "ipython3",
   "version": "3.8.3"
  }
 },
 "nbformat": 4,
 "nbformat_minor": 4
}
